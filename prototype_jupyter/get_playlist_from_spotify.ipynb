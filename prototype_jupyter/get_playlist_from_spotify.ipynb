{
 "cells": [
  {
   "cell_type": "code",
   "execution_count": 84,
   "metadata": {},
   "outputs": [
    {
     "data": {
      "text/plain": [
       "True"
      ]
     },
     "execution_count": 84,
     "metadata": {},
     "output_type": "execute_result"
    }
   ],
   "source": [
    "import spotipy\n",
    "import dotenv\n",
    "import os\n",
    "from spotipy.oauth2 import SpotifyOAuth\n",
    "\n",
    "#import the login files from the .env file\n",
    "dotenv.load_dotenv(override=True)"
   ]
  },
  {
   "cell_type": "code",
   "execution_count": 108,
   "metadata": {},
   "outputs": [
    {
     "name": "stdout",
     "output_type": "stream",
     "text": [
      "0 Zedd  –  Clarity\n",
      "1 Hailee Steinfeld  –  Starving\n",
      "2 Ariana Grande  –  Break Free\n",
      "3 Empire of the Sun  –  Alive - Zedd Remix\n",
      "4 Jai Wolf  –  Lost (feat. Chelsea Jade) [Midnight Kids Remix]\n",
      "5 Seven Lions  –  Falling Away - Festival Mix (Radio Edit)\n",
      "6 Seven Lions  –  Dreamin' (feat. Fiora)\n",
      "7 Seven Lions  –  Higher Love (Mixed)\n",
      "8 Porter Robinson  –  Sad Machine\n",
      "9 Porter Robinson  –  Sad Machine - Deon Custom Remix\n",
      "10 3LAU  –  Is It Love\n",
      "11 Hearts & Colors  –  LA On A Saturday Night - James Carter Remix\n",
      "12 Adventure Club  –  Firestorm (feat. Sara Diamond)\n",
      "13 Kygo  –  Think About You - Galantis Remix\n",
      "14 Said The Sky  –  Superstar\n",
      "15 OneRepublic  –  If I Lose Myself - Alesso vs OneRepublic\n",
      "16 Coldplay  –  Hymn for the Weekend - Seeb Remix\n",
      "17 Alina Baraz  –  Floating (feat. Khalid) [Ekali Remix]\n",
      "18 Yellow Claw  –  Friends In The Dark\n",
      "19 Yellow Claw  –  Last Paradise\n",
      "20 Yellow Claw  –  Love & War\n",
      "21 ODESZA  –  Falls - Kaskade Remix\n",
      "22 Troye Sivan  –  YOUTH - Gryffin Remix\n",
      "23 Martin Garrix  –  There For You - Madison Mars Remix\n",
      "24 Yellow Claw  –  Both of Us\n",
      "25 Years & Years  –  If You're Over Me - NOTD Remix\n",
      "26 Alesso  –  Heroes (we could be)\n",
      "27 Adventure Club  –  Next Life\n",
      "28 Foxes  –  Youth - Adventure Club Remix\n",
      "29 Audien  –  Favorite Sound\n",
      "30 Kaskade  –  Atmosphere\n",
      "31 Eptic  –  On The Block\n",
      "32 Louis The Child  –  Better Not (feat. Wafia)\n",
      "33 NGHTMRE  –  GUD VIBRATIONS\n",
      "34 Kayzo  –  EXHALE\n",
      "35 Dirty South  –  With You (Jai Wolf Remix)\n",
      "36 Kaskade  –  Never Sleep Alone (feat. Tess Comrie)\n",
      "37 Kiiara  –  Feels - Jai Wolf Remix\n",
      "38 Cash Cash  –  Kiss the Sky - EP Version\n",
      "39 Tritonal  –  Broken - Cash Cash Remix\n",
      "40 Tritonal  –  Untouchable - BRKLYN\n",
      "41 Cash Cash  –  Millionaire (feat. Nelly) - Alan Walker Remix\n",
      "42 3LAU  –  Touch - Zeds Dead Remix\n",
      "43 ARMNHMR  –  ARMNHMR & Nolan van Lith - Alone (Soar Remix)\n",
      "44 ILLENIUM  –  Pray ft. Kameron (Blanke Remix)\n",
      "45 Vicetone  –  Bright Side (feat. Cosmos & Creature)\n",
      "46 Vicetone  –  The Otherside\n",
      "47 Cash Cash  –  Overtime - Vicetone Remix Edit\n",
      "48 Dillon Francis  –  When We Were Young (feat. The Chain Gang of 1974) - Vicetone Remix\n",
      "49 Matthew Koma  –  One Night - Vicetone Remix\n",
      "50 Vicetone  –  Collide (feat. Rosi Golan)\n",
      "51 Avicii  –  Wake Me Up\n",
      "52 Avicii  –  Waiting For Love\n",
      "53 ODESZA  –  Say My Name (feat. Zyra)\n",
      "54 Seven Lions  –  Sojourn\n",
      "55 Galantis  –  Bones (feat. OneRepublic) - eSQUIRE Remix\n",
      "56 Tritonal  –  Real\n",
      "57 Prince Paris  –  All of You\n",
      "58 Martin Garrix  –  Mistaken (feat. Alex Aris)\n",
      "59 Vicetone  –  Nothing Stopping Me (Oli Hanson Remix) [feat. Kat Nestel]\n",
      "60 Slushii  –  Dreaming of You\n",
      "61 Kosling  –  Runnin\n",
      "62 Zara Larsson  –  Ruin My Life\n",
      "63 Galantis  –  Emoji\n",
      "64 ODESZA  –  Say My Name (feat. Zyra) - Jai Wolf Remix\n",
      "65 Starley  –  Call on Me - Ryan Riback Remix\n",
      "66 Cascada  –  Everytime We Touch (Hardwell & Maurice West Remix)\n",
      "67 Alison Wonderland  –  Awake - KRANE Remix\n",
      "68 Gryffin  –  Tie Me Down (feat. Elley Duhé) - Blanke Remix\n",
      "69 Mr. Probz  –  Space For Two - R3HAB Remix\n",
      "70 ODESZA  –  Falls (feat. Sasha Alex Sloan)\n",
      "71 Feed Me  –  Feel Love\n",
      "72 Kygo  –  Happy Now\n",
      "73 William Black  –  Back Together\n",
      "74 Disco Killerz  –  Beautiful Life - GATTÜSO Remix\n",
      "75 Digital Farm Animals  –  Lookin' For (feat. Danny Ocean) - R3HAB Remix\n",
      "76 R3HAB  –  Whiplash\n",
      "77 Said The Sky  –  Mountains (feat. Diamond Eyes)\n",
      "78 Seven Lions  –  Dreamin' (feat. Fiora)\n",
      "79 QUIX  –  Giving Up (feat. Jaden Michaels)\n",
      "80 Seven Lions  –  Island (feat. Nevve) - Blastoyz Remix\n",
      "81 Borgeous  –  Sweeter Without You\n",
      "82 Jonas Blue  –  Fast Car\n",
      "83 Boxplot  –  Tramontane\n",
      "84 Porter Robinson  –  Flicker\n",
      "85 Imad Royal  –  Heart-Shaped Box - VIRTU Remix\n",
      "86 Avicii  –  Tough Love\n",
      "87 Vicetone  –  Feels Like - Sabai Remix\n",
      "88 Vicetone  –  Fences - Elton Kit Remix\n",
      "89 NOTD  –  I Miss Myself (with HRVY)\n",
      "90 Jack Shore  –  Ball Bounce\n",
      "91 ILLENIUM  –  Good Things Fall Apart (with Jon Bellion)\n",
      "92 Tritonal  –  Livin' The Dream\n",
      "93 YUNGBLUD  –  11 Minutes (feat. Travis Barker) - Kayzo Remix\n",
      "94 Rezz  –  Dark Age\n",
      "95 Tritonal  –  Little Bit of Love\n",
      "96 R3HAB  –  Lullaby - GATTÜSO Remix\n",
      "97 Gryffin  –  Hurt People (with Aloe Blacc)\n",
      "98 Zeds Dead  –  Rescue\n",
      "99 Audien  –  Favorite Sound - BRKLYN Remix\n"
     ]
    }
   ],
   "source": [
    "scope = \"user-library-read\"\n",
    "\n",
    "sp = spotipy.Spotify(auth_manager=SpotifyOAuth(scope=scope))\n",
    "\n",
    "playlist = sp.playlist_items(\"4Zqxh2p4XIOZNTI1IiDJvz\", \n",
    "    fields=\"items(track(name, href, id, artists))\",\n",
    "    offset=100\n",
    "    )\n",
    "\n",
    "# print(playlist)\n",
    "\n",
    "# get a list of ids for every song\n",
    "\n",
    "for idx, item in enumerate(playlist['items']):\n",
    "    track = item['track']\n",
    "    print(idx, track['artists'][0]['name'], \" – \", track['name'])\n",
    "\n",
    "\n"
   ]
  }
 ],
 "metadata": {
  "interpreter": {
   "hash": "ba1430b99676cd35699e25604d052d21f2ed8d379430c3881f2df04fdd6ee341"
  },
  "kernelspec": {
   "display_name": "Python 3.9.6 64-bit ('music-clustering-eQqWDDYB-py3.9': poetry)",
   "name": "python3"
  },
  "language_info": {
   "codemirror_mode": {
    "name": "ipython",
    "version": 3
   },
   "file_extension": ".py",
   "mimetype": "text/x-python",
   "name": "python",
   "nbconvert_exporter": "python",
   "pygments_lexer": "ipython3",
   "version": "3.9.6"
  },
  "orig_nbformat": 4
 },
 "nbformat": 4,
 "nbformat_minor": 2
}
